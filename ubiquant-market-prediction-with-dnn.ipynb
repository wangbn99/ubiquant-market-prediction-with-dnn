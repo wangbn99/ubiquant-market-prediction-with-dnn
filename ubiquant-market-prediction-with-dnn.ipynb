{
 "cells": [
  {
   "cell_type": "code",
   "execution_count": 1,
   "metadata": {
    "execution": {
     "iopub.execute_input": "2022-04-19T01:56:01.671401Z",
     "iopub.status.busy": "2022-04-19T01:56:01.670422Z",
     "iopub.status.idle": "2022-04-19T01:56:06.165276Z",
     "shell.execute_reply": "2022-04-19T01:56:06.164486Z",
     "shell.execute_reply.started": "2022-04-19T01:56:01.671297Z"
    }
   },
   "outputs": [],
   "source": [
    "import pandas as pd\n",
    "import numpy as np\n",
    "import math\n",
    "import matplotlib.pyplot as plt\n",
    "import gc\n",
    "\n",
    "import tensorflow as tf\n",
    "import keras\n",
    "from keras import backend as K\n",
    "from keras import layers\n",
    "from keras.layers.core import Activation\n",
    "from keras.utils.generic_utils import get_custom_objects\n",
    "\n",
    "# from IPython.display import display\n",
    "# pd.set_option('display.max_columns', None)\n",
    "# pd.set_option('display.max_rows', None)"
   ]
  },
  {
   "cell_type": "code",
   "execution_count": 2,
   "metadata": {
    "execution": {
     "iopub.execute_input": "2022-04-19T01:56:09.905311Z",
     "iopub.status.busy": "2022-04-19T01:56:09.904646Z",
     "iopub.status.idle": "2022-04-19T01:56:09.909472Z",
     "shell.execute_reply": "2022-04-19T01:56:09.908709Z",
     "shell.execute_reply.started": "2022-04-19T01:56:09.905267Z"
    }
   },
   "outputs": [],
   "source": [
    "# gpu_devices = tf.config.experimental.list_physical_devices('GPU')\n",
    "# for device in gpu_devices:\n",
    "#     tf.config.experimental.set_memory_growth(device, True)"
   ]
  },
  {
   "cell_type": "markdown",
   "metadata": {},
   "source": [
    "### Reading data\n",
    "\n",
    "Reading data from Parquet file. refer to Fast Data Loading and Low Mem with Parquet Files: https://www.kaggle.com/robikscube/fast-data-loading-and-low-mem-with-parquet-files"
   ]
  },
  {
   "cell_type": "code",
   "execution_count": 3,
   "metadata": {
    "execution": {
     "iopub.execute_input": "2022-04-19T01:56:15.802612Z",
     "iopub.status.busy": "2022-04-19T01:56:15.802296Z",
     "iopub.status.idle": "2022-04-19T01:56:53.250621Z",
     "shell.execute_reply": "2022-04-19T01:56:53.249634Z",
     "shell.execute_reply.started": "2022-04-19T01:56:15.802578Z"
    }
   },
   "outputs": [],
   "source": [
    "train = pd.read_parquet('../input/ubiquant-parquet/train_low_mem.parquet')"
   ]
  },
  {
   "cell_type": "markdown",
   "metadata": {},
   "source": [
    "### Take a look at the data"
   ]
  },
  {
   "cell_type": "code",
   "execution_count": 4,
   "metadata": {
    "execution": {
     "iopub.execute_input": "2022-04-19T01:56:53.255106Z",
     "iopub.status.busy": "2022-04-19T01:56:53.254874Z",
     "iopub.status.idle": "2022-04-19T01:56:53.284984Z",
     "shell.execute_reply": "2022-04-19T01:56:53.284163Z",
     "shell.execute_reply.started": "2022-04-19T01:56:53.255079Z"
    }
   },
   "outputs": [
    {
     "name": "stdout",
     "output_type": "stream",
     "text": [
      "<class 'pandas.core.frame.DataFrame'>\n",
      "RangeIndex: 3141410 entries, 0 to 3141409\n",
      "Columns: 304 entries, row_id to f_299\n",
      "dtypes: float32(301), object(1), uint16(2)\n",
      "memory usage: 3.6+ GB\n"
     ]
    }
   ],
   "source": [
    "train.info()"
   ]
  },
  {
   "cell_type": "markdown",
   "metadata": {},
   "source": [
    "You will find that row_id is of type string, time_id and investment_id are of type uint16, and others are of type float32."
   ]
  },
  {
   "cell_type": "code",
   "execution_count": 5,
   "metadata": {
    "execution": {
     "iopub.execute_input": "2022-04-19T01:56:53.286855Z",
     "iopub.status.busy": "2022-04-19T01:56:53.286185Z",
     "iopub.status.idle": "2022-04-19T01:56:53.296278Z",
     "shell.execute_reply": "2022-04-19T01:56:53.295435Z",
     "shell.execute_reply.started": "2022-04-19T01:56:53.286814Z"
    }
   },
   "outputs": [
    {
     "name": "stdout",
     "output_type": "stream",
     "text": [
      "object columns: ['row_id']\n",
      "object columns: ['time_id', 'investment_id']\n"
     ]
    }
   ],
   "source": [
    "def get_colums_by_dtype(df, dtype):\n",
    "    s = (df.dtypes==dtype)\n",
    "    return list(s[s].index)\n",
    "\n",
    "print('object columns:', get_colums_by_dtype(train, 'object'))\n",
    "print('object columns:', get_colums_by_dtype(train, 'uint16'))"
   ]
  },
  {
   "cell_type": "markdown",
   "metadata": {},
   "source": [
    "Because the dataset is so big, to save memory you can convert float32 to float16"
   ]
  },
  {
   "cell_type": "code",
   "execution_count": 6,
   "metadata": {
    "execution": {
     "iopub.execute_input": "2022-04-19T01:56:53.299350Z",
     "iopub.status.busy": "2022-04-19T01:56:53.298738Z",
     "iopub.status.idle": "2022-04-19T01:59:48.285266Z",
     "shell.execute_reply": "2022-04-19T01:59:48.284387Z",
     "shell.execute_reply.started": "2022-04-19T01:56:53.299293Z"
    }
   },
   "outputs": [],
   "source": [
    "for col in get_colums_by_dtype(train, 'float32'):\n",
    "    train[col] = train[col].astype(np.float16)"
   ]
  },
  {
   "cell_type": "markdown",
   "metadata": {},
   "source": [
    "### handling outliers"
   ]
  },
  {
   "cell_type": "code",
   "execution_count": 7,
   "metadata": {
    "execution": {
     "iopub.execute_input": "2022-04-19T01:59:48.287064Z",
     "iopub.status.busy": "2022-04-19T01:59:48.286796Z",
     "iopub.status.idle": "2022-04-19T01:59:48.706030Z",
     "shell.execute_reply": "2022-04-19T01:59:48.705266Z",
     "shell.execute_reply.started": "2022-04-19T01:59:48.287028Z"
    }
   },
   "outputs": [
    {
     "data": {
      "image/png": "[encoded data removed]",
      "text/plain": [
       "<Figure size 720x360 with 1 Axes>"
      ]
     },
     "metadata": {
      "needs_background": "light"
     },
     "output_type": "display_data"
    }
   ],
   "source": [
    "investment_count = train.groupby(['investment_id'])['target'].count()\n",
    "\n",
    "investment_count.hist(bins=60, alpha = 0.5, figsize=(10, 5))\n",
    "plt.xlabel('Investment Count')\n",
    "plt.ylabel('Frequency')\n",
    "plt.title('Frequency of investment count')\n",
    "plt.grid(True)\n",
    "plt.show()"
   ]
  },
  {
   "cell_type": "code",
   "execution_count": 8,
   "metadata": {
    "execution": {
     "iopub.execute_input": "2022-04-19T01:59:48.707814Z",
     "iopub.status.busy": "2022-04-19T01:59:48.707200Z",
     "iopub.status.idle": "2022-04-19T01:59:49.083586Z",
     "shell.execute_reply": "2022-04-19T01:59:49.082833Z",
     "shell.execute_reply.started": "2022-04-19T01:59:48.707755Z"
    }
   },
   "outputs": [
    {
     "data": {
      "image/png": "[encoded data removed]",
      "text/plain": [
       "<Figure size 720x360 with 1 Axes>"
      ]
     },
     "metadata": {
      "needs_background": "light"
     },
     "output_type": "display_data"
    }
   ],
   "source": [
    "investment_mean = train.groupby(['investment_id'])['target'].mean()\n",
    "investment_mean.hist(bins=60, alpha = 0.5, figsize=(10, 5))\n",
    "plt.xlabel('Investment mean by target')\n",
    "plt.ylabel('Frequency')\n",
    "plt.title(\"Frequency of investment mean by target\")\n",
    "plt.grid(True)\n",
    "plt.show()"
   ]
  },
  {
   "cell_type": "code",
   "execution_count": 9,
   "metadata": {
    "execution": {
     "iopub.execute_input": "2022-04-19T01:59:49.085435Z",
     "iopub.status.busy": "2022-04-19T01:59:49.085014Z",
     "iopub.status.idle": "2022-04-19T01:59:50.931472Z",
     "shell.execute_reply": "2022-04-19T01:59:50.930672Z",
     "shell.execute_reply.started": "2022-04-19T01:59:49.085394Z"
    }
   },
   "outputs": [
    {
     "data": {
      "image/png": "[encoded data removed]",
      "text/plain": [
       "<Figure size 576x576 with 3 Axes>"
      ]
     },
     "metadata": {
      "needs_background": "light"
     },
     "output_type": "display_data"
    }
   ],
   "source": [
    "import seaborn as sns\n",
    "ax = sns.jointplot(x=investment_count, y=investment_mean, kind='reg',height=8, color = 'blue')\n",
    "ax.ax_joint.set_xlabel('Investment count')\n",
    "ax.ax_joint.set_ylabel('Target mean')\n",
    "plt.show()"
   ]
  },
  {
   "cell_type": "code",
   "execution_count": 10,
   "metadata": {
    "execution": {
     "iopub.execute_input": "2022-04-19T01:59:50.933639Z",
     "iopub.status.busy": "2022-04-19T01:59:50.933148Z",
     "iopub.status.idle": "2022-04-19T01:59:59.450312Z",
     "shell.execute_reply": "2022-04-19T01:59:59.449468Z",
     "shell.execute_reply.started": "2022-04-19T01:59:50.933598Z"
    }
   },
   "outputs": [],
   "source": [
    "outlier_investment = investment_mean[abs(investment_mean)>0.4].index.tolist()\n",
    "X = train[~train['investment_id'].isin(outlier_investment)]"
   ]
  },
  {
   "cell_type": "code",
   "execution_count": 11,
   "metadata": {
    "execution": {
     "iopub.execute_input": "2022-04-19T01:59:59.451846Z",
     "iopub.status.busy": "2022-04-19T01:59:59.451546Z",
     "iopub.status.idle": "2022-04-19T01:59:59.662222Z",
     "shell.execute_reply": "2022-04-19T01:59:59.661208Z",
     "shell.execute_reply.started": "2022-04-19T01:59:59.451808Z"
    }
   },
   "outputs": [
    {
     "data": {
      "text/plain": [
       "13240"
      ]
     },
     "execution_count": 11,
     "metadata": {},
     "output_type": "execute_result"
    }
   ],
   "source": [
    "del train\n",
    "del investment_mean\n",
    "del investment_count\n",
    "del outlier_investment\n",
    "gc.collect()"
   ]
  },
  {
   "cell_type": "code",
   "execution_count": 12,
   "metadata": {
    "execution": {
     "iopub.execute_input": "2022-04-19T01:59:59.667244Z",
     "iopub.status.busy": "2022-04-19T01:59:59.666429Z",
     "iopub.status.idle": "2022-04-19T01:59:59.690867Z",
     "shell.execute_reply": "2022-04-19T01:59:59.690166Z",
     "shell.execute_reply.started": "2022-04-19T01:59:59.667202Z"
    }
   },
   "outputs": [
    {
     "name": "stdout",
     "output_type": "stream",
     "text": [
      "<class 'pandas.core.frame.DataFrame'>\n",
      "Int64Index: 3141294 entries, 0 to 3141409\n",
      "Columns: 304 entries, row_id to f_299\n",
      "dtypes: float16(301), object(1), uint16(2)\n",
      "memory usage: 1.8+ GB\n"
     ]
    }
   ],
   "source": [
    "X.info()"
   ]
  },
  {
   "cell_type": "markdown",
   "metadata": {},
   "source": [
    "### Splitting data"
   ]
  },
  {
   "cell_type": "markdown",
   "metadata": {},
   "source": [
    "How to split X into train set and test set, generally you can do like this: "
   ]
  },
  {
   "cell_type": "code",
   "execution_count": 13,
   "metadata": {
    "execution": {
     "iopub.execute_input": "2022-04-19T01:59:59.692733Z",
     "iopub.status.busy": "2022-04-19T01:59:59.692488Z",
     "iopub.status.idle": "2022-04-19T01:59:59.698353Z",
     "shell.execute_reply": "2022-04-19T01:59:59.697531Z",
     "shell.execute_reply.started": "2022-04-19T01:59:59.692701Z"
    }
   },
   "outputs": [],
   "source": [
    "# y = X.pop(\"target\")\n",
    "# _ = X.pop('row_id')\n",
    "# from sklearn.model_selection import train_test_split\n",
    "# X_train, X_test, y_train, y_test = train_test_split(X, y, test_size=0.2)\n",
    "# # X_train, y_train, X_test, y_test = X[0:2122479], y[0:2122479], X[2122479:], y[2122479:]"
   ]
  },
  {
   "cell_type": "markdown",
   "metadata": {},
   "source": [
    "However, if you want to achieve better prediction, maybe you need to consider the distribution of time_id and investment_id. Let's take a look at their hist diagrams."
   ]
  },
  {
   "cell_type": "code",
   "execution_count": 14,
   "metadata": {
    "execution": {
     "iopub.execute_input": "2022-04-19T01:59:59.701834Z",
     "iopub.status.busy": "2022-04-19T01:59:59.701585Z",
     "iopub.status.idle": "2022-04-19T02:00:00.321416Z",
     "shell.execute_reply": "2022-04-19T02:00:00.320690Z",
     "shell.execute_reply.started": "2022-04-19T01:59:59.701806Z"
    }
   },
   "outputs": [
    {
     "data": {
      "text/plain": [
       "<function matplotlib.pyplot.show(close=None, block=None)>"
      ]
     },
     "execution_count": 14,
     "metadata": {},
     "output_type": "execute_result"
    },
    {
     "data": {
      "image/png": "[encoded data removed]",
      "text/plain": [
       "<Figure size 864x360 with 2 Axes>"
      ]
     },
     "metadata": {
      "needs_background": "light"
     },
     "output_type": "display_data"
    }
   ],
   "source": [
    "X[['investment_id', 'time_id']].hist(bins=50, figsize=(12,5))\n",
    "plt.show"
   ]
  },
  {
   "cell_type": "markdown",
   "metadata": {},
   "source": [
    "You can see from the above that the distribution of investment_id is relatively uniform, while the time_id is distributed incrementally. In order to prevent sampling bias, We will split data based on time_id by using stratified sampling."
   ]
  },
  {
   "cell_type": "code",
   "execution_count": 15,
   "metadata": {
    "execution": {
     "iopub.execute_input": "2022-04-19T02:00:00.322888Z",
     "iopub.status.busy": "2022-04-19T02:00:00.322617Z",
     "iopub.status.idle": "2022-04-19T02:00:01.445936Z",
     "shell.execute_reply": "2022-04-19T02:00:01.445155Z",
     "shell.execute_reply.started": "2022-04-19T02:00:00.322846Z"
    }
   },
   "outputs": [],
   "source": [
    "from sklearn.model_selection import StratifiedShuffleSplit\n",
    "\n",
    "split = StratifiedShuffleSplit(n_splits=1, test_size=0.2, random_state=42)\n",
    "train_index, test_index = list(split.split(X, X['time_id']))[0]"
   ]
  },
  {
   "cell_type": "code",
   "execution_count": 16,
   "metadata": {
    "execution": {
     "iopub.execute_input": "2022-04-19T02:00:01.447802Z",
     "iopub.status.busy": "2022-04-19T02:00:01.447529Z",
     "iopub.status.idle": "2022-04-19T02:00:13.610413Z",
     "shell.execute_reply": "2022-04-19T02:00:13.609471Z",
     "shell.execute_reply.started": "2022-04-19T02:00:01.447751Z"
    }
   },
   "outputs": [],
   "source": [
    "X_train = X.iloc[train_index]\n",
    "X_test = X.iloc[test_index]"
   ]
  },
  {
   "cell_type": "code",
   "execution_count": 17,
   "metadata": {
    "execution": {
     "iopub.execute_input": "2022-04-19T02:00:13.612325Z",
     "iopub.status.busy": "2022-04-19T02:00:13.611743Z",
     "iopub.status.idle": "2022-04-19T02:00:13.956588Z",
     "shell.execute_reply": "2022-04-19T02:00:13.955681Z",
     "shell.execute_reply.started": "2022-04-19T02:00:13.612282Z"
    }
   },
   "outputs": [
    {
     "data": {
      "text/plain": [
       "12209"
      ]
     },
     "execution_count": 17,
     "metadata": {},
     "output_type": "execute_result"
    }
   ],
   "source": [
    "del X\n",
    "gc.collect()"
   ]
  },
  {
   "cell_type": "markdown",
   "metadata": {},
   "source": [
    "Verify the sampling result。"
   ]
  },
  {
   "cell_type": "code",
   "execution_count": 18,
   "metadata": {
    "execution": {
     "iopub.execute_input": "2022-04-19T02:00:13.959210Z",
     "iopub.status.busy": "2022-04-19T02:00:13.958941Z",
     "iopub.status.idle": "2022-04-19T02:00:13.991792Z",
     "shell.execute_reply": "2022-04-19T02:00:13.990851Z",
     "shell.execute_reply.started": "2022-04-19T02:00:13.959179Z"
    }
   },
   "outputs": [
    {
     "data": {
      "text/plain": [
       "1214    0.001095\n",
       "1209    0.001095\n",
       "1207    0.001094\n",
       "1211    0.001094\n",
       "1208    0.001093\n",
       "          ...   \n",
       "415     0.000210\n",
       "362     0.000207\n",
       "374     0.000191\n",
       "398     0.000172\n",
       "492     0.000163\n",
       "Name: time_id, Length: 1211, dtype: float64"
      ]
     },
     "metadata": {},
     "output_type": "display_data"
    },
    {
     "data": {
      "text/plain": [
       "1214    0.001095\n",
       "1207    0.001095\n",
       "1209    0.001095\n",
       "1212    0.001093\n",
       "1213    0.001093\n",
       "          ...   \n",
       "415     0.000210\n",
       "362     0.000207\n",
       "374     0.000191\n",
       "398     0.000172\n",
       "492     0.000162\n",
       "Name: time_id, Length: 1211, dtype: float64"
      ]
     },
     "metadata": {},
     "output_type": "display_data"
    }
   ],
   "source": [
    "display(X_train['time_id'].value_counts() / len(X_train))\n",
    "display(X_test['time_id'].value_counts() / len(X_test))"
   ]
  },
  {
   "cell_type": "code",
   "execution_count": 19,
   "metadata": {
    "execution": {
     "iopub.execute_input": "2022-04-19T02:00:13.993694Z",
     "iopub.status.busy": "2022-04-19T02:00:13.993312Z",
     "iopub.status.idle": "2022-04-19T02:00:14.208139Z",
     "shell.execute_reply": "2022-04-19T02:00:14.206859Z",
     "shell.execute_reply.started": "2022-04-19T02:00:13.993652Z"
    }
   },
   "outputs": [],
   "source": [
    "y_train = X_train.pop('target')\n",
    "y_test = X_test.pop('target')\n",
    "_ = X_train.pop('row_id')\n",
    "X_train_time_id = X_train.pop('time_id')\n",
    "_ = X_test.pop('row_id')\n",
    "X_test_time_id = X_test.pop('time_id')"
   ]
  },
  {
   "cell_type": "code",
   "execution_count": 20,
   "metadata": {
    "execution": {
     "iopub.execute_input": "2022-04-19T02:00:14.209951Z",
     "iopub.status.busy": "2022-04-19T02:00:14.209646Z",
     "iopub.status.idle": "2022-04-19T02:00:14.253710Z",
     "shell.execute_reply": "2022-04-19T02:00:14.252674Z",
     "shell.execute_reply.started": "2022-04-19T02:00:14.209911Z"
    }
   },
   "outputs": [
    {
     "name": "stdout",
     "output_type": "stream",
     "text": [
      "<class 'pandas.core.frame.DataFrame'>\n",
      "Int64Index: 2513035 entries, 2977773 to 1444946\n",
      "Columns: 301 entries, investment_id to f_299\n",
      "dtypes: float16(300), uint16(1)\n",
      "memory usage: 1.4 GB\n",
      "None\n",
      "<class 'pandas.core.frame.DataFrame'>\n",
      "Int64Index: 628259 entries, 2313954 to 46166\n",
      "Columns: 301 entries, investment_id to f_299\n",
      "dtypes: float16(300), uint16(1)\n",
      "memory usage: 365.5 MB\n",
      "None\n"
     ]
    }
   ],
   "source": [
    "print(X_train.info())\n",
    "print(X_test.info())"
   ]
  },
  {
   "cell_type": "markdown",
   "metadata": {},
   "source": [
    "Making dataset for multiple input models"
   ]
  },
  {
   "cell_type": "code",
   "execution_count": 21,
   "metadata": {
    "execution": {
     "iopub.execute_input": "2022-04-19T02:00:14.256025Z",
     "iopub.status.busy": "2022-04-19T02:00:14.255616Z",
     "iopub.status.idle": "2022-04-19T02:00:14.262669Z",
     "shell.execute_reply": "2022-04-19T02:00:14.261651Z",
     "shell.execute_reply.started": "2022-04-19T02:00:14.255987Z"
    }
   },
   "outputs": [],
   "source": [
    "def make_dataset(investment_id, features, y=None, batch_size=1024):\n",
    "    if y is not None:\n",
    "        slices = ((investment_id, features), y)\n",
    "    else:\n",
    "        slices = ((investment_id, features))\n",
    "        \n",
    "    ds = tf.data.Dataset.from_tensor_slices(slices)\n",
    "    ds = ds.batch(batch_size).cache().prefetch(tf.data.experimental.AUTOTUNE)\n",
    "    \n",
    "    return ds"
   ]
  },
  {
   "cell_type": "markdown",
   "metadata": {},
   "source": [
    "### Building models\n",
    "#### Define models"
   ]
  },
  {
   "cell_type": "code",
   "execution_count": 22,
   "metadata": {
    "execution": {
     "iopub.execute_input": "2022-04-19T02:00:14.265075Z",
     "iopub.status.busy": "2022-04-19T02:00:14.264157Z",
     "iopub.status.idle": "2022-04-19T02:00:14.277010Z",
     "shell.execute_reply": "2022-04-19T02:00:14.276072Z",
     "shell.execute_reply.started": "2022-04-19T02:00:14.265037Z"
    }
   },
   "outputs": [],
   "source": [
    "def get_model(hidden_layer_nodes=[256, 128, 32], activation='swish', batchNormalization=True, dropOut=None):\n",
    "    model = keras.Sequential()\n",
    "    if not batchNormalization:\n",
    "        batchNormalization = False\n",
    "    if not isinstance(batchNormalization, list):\n",
    "        batchNormalization = [batchNormalization] * len(hidden_layer_nodes)\n",
    "    if not dropOut:\n",
    "        dropOut = 0.0\n",
    "    if not isinstance(dropOut, list):\n",
    "        dropOut = [dropOut] * len(hidden_layer_nodes)\n",
    "    for node_num,bn,dropout_rate in zip(hidden_layer_nodes, batchNormalization, dropOut):\n",
    "        model.add(keras.layers.Dense(node_num))\n",
    "        if bn:\n",
    "            model.add(keras.layers.BatchNormalization())\n",
    "        model.add(keras.layers.Activation(activation)) \n",
    "        if dropout_rate>0:\n",
    "            model.add(keras.layers.Dropout(dropout_rate)) \n",
    "            \n",
    "\n",
    "    # Add activation function to classifier\n",
    "    model.add(keras.layers.Dense(1, activation='linear'))\n",
    "\n",
    "    rmse = tf.keras.metrics.RootMeanSquaredError(name=\"rmse\")\n",
    "\n",
    "    model.compile(loss=\"mean_squared_error\", optimizer=\"adam\", metrics=[\"mse\", rmse])\n",
    "    #model.compile(optimizer=tf.optimizers.Adam(0.001), loss='mse', metrics=['mse', rmse])\n",
    "    return model"
   ]
  },
  {
   "cell_type": "code",
   "execution_count": 23,
   "metadata": {
    "execution": {
     "iopub.execute_input": "2022-04-19T02:00:14.280320Z",
     "iopub.status.busy": "2022-04-19T02:00:14.279448Z",
     "iopub.status.idle": "2022-04-19T02:00:14.296211Z",
     "shell.execute_reply": "2022-04-19T02:00:14.295407Z",
     "shell.execute_reply.started": "2022-04-19T02:00:14.280282Z"
    }
   },
   "outputs": [],
   "source": [
    "def get_multi_input_model():\n",
    "    investment_id_input = tf.keras.Input(shape=(1,), dtype=tf.uint16, name='investment_id')\n",
    "    investment_id_x = layers.Dense(64, activation='relu')(investment_id_input)\n",
    "\n",
    "    features_input = tf.keras.Input(shape=(300,), dtype=tf.float16, name='features')\n",
    "    features_x = layers.Dense(512, activation='swish')(features_input)\n",
    "    features_x = layers.Dense(256, activation='swish')(features_x)\n",
    "\n",
    "\n",
    "    concatenated = layers.concatenate([investment_id_x, features_x], axis=-1)\n",
    "    mixed_x = layers.Dense(32, activation='relu')(concatenated)\n",
    "    output = layers.Dense(1)(mixed_x)\n",
    "\n",
    "    model = keras.models.Model([investment_id_input, features_input], output, name='model_with_multi_input')\n",
    "    rmse = tf.keras.metrics.RootMeanSquaredError(name=\"rmse\")\n",
    "    model.compile(optimizer='adam', loss='mse', metrics=['mse', rmse])\n",
    "    \n",
    "    return model"
   ]
  },
  {
   "cell_type": "markdown",
   "metadata": {},
   "source": [
    "### First: A basic model"
   ]
  },
  {
   "cell_type": "code",
   "execution_count": null,
   "metadata": {
    "execution": {
     "iopub.execute_input": "2022-04-19T01:48:44.960387Z",
     "iopub.status.busy": "2022-04-19T01:48:44.959819Z"
    }
   },
   "outputs": [],
   "source": [
    "mc = keras.callbacks.ModelCheckpoint(\"best_model_basic.h5\", monitor=\"val_mse\", save_best_only=True, mode=\"min\", verbose=1)\n",
    "model=get_model(activation='swish')\n",
    "model.fit(X_train, y_train, epochs=15, validation_data=(X_test, y_test), callbacks=[mc])"
   ]
  },
  {
   "cell_type": "markdown",
   "metadata": {},
   "source": [
    "### Second: A basic model with early stop callback"
   ]
  },
  {
   "cell_type": "code",
   "execution_count": null,
   "metadata": {
    "execution": {
     "iopub.status.busy": "2022-04-19T01:40:56.312888Z",
     "iopub.status.idle": "2022-04-19T01:40:56.313554Z",
     "shell.execute_reply": "2022-04-19T01:40:56.313322Z",
     "shell.execute_reply.started": "2022-04-19T01:40:56.313297Z"
    }
   },
   "outputs": [],
   "source": [
    "es = keras.callbacks.EarlyStopping(monitor=\"val_mse\", patience=4, mode=\"min\")\n",
    "mc = keras.callbacks.ModelCheckpoint(\"best_model_basic_with_early_stop.h5\", monitor=\"val_mse\", save_best_only=True, mode=\"min\", verbose=1)\n",
    "model=get_model(activation='swish')\n",
    "model.fit(X_train, y_train, epochs=50, validation_data=(X_test, y_test), callbacks=[es, mc])"
   ]
  },
  {
   "cell_type": "markdown",
   "metadata": {},
   "source": [
    "### Third: Model with custom defined activation"
   ]
  },
  {
   "cell_type": "code",
   "execution_count": 60,
   "metadata": {
    "execution": {
     "iopub.execute_input": "2022-04-19T05:03:23.089404Z",
     "iopub.status.busy": "2022-04-19T05:03:23.089092Z",
     "iopub.status.idle": "2022-04-19T05:03:23.094751Z",
     "shell.execute_reply": "2022-04-19T05:03:23.093734Z",
     "shell.execute_reply.started": "2022-04-19T05:03:23.089369Z"
    }
   },
   "outputs": [],
   "source": [
    "def custom_activation(x):\n",
    "  \n",
    "    #return (1/(1 + K.exp(-x)))\n",
    "    return K.sin(math.pi * x /2)\n",
    "     \n",
    "#get_custom_objects().update({'custom_activation': Activation(custom_activation)})"
   ]
  },
  {
   "cell_type": "code",
   "execution_count": 61,
   "metadata": {
    "execution": {
     "iopub.execute_input": "2022-04-19T05:03:38.687387Z",
     "iopub.status.busy": "2022-04-19T05:03:38.686714Z",
     "iopub.status.idle": "2022-04-19T05:16:12.251723Z",
     "shell.execute_reply": "2022-04-19T05:16:12.250768Z",
     "shell.execute_reply.started": "2022-04-19T05:03:38.687343Z"
    }
   },
   "outputs": [
    {
     "name": "stderr",
     "output_type": "stream",
     "text": [
      "2022-04-19 05:03:44.043481: W tensorflow/core/framework/cpu_allocator_impl.cc:80] Allocation of 3025694140 exceeds 10% of free system memory.\n"
     ]
    },
    {
     "name": "stdout",
     "output_type": "stream",
     "text": [
      "Epoch 1/2\n",
      "78533/78533 [==============================] - 345s 4ms/step - loss: 0.8401 - mse: 0.8401 - rmse: 0.9166 - val_loss: 0.8301 - val_mse: 0.8301 - val_rmse: 0.9111\n",
      "\n",
      "Epoch 00001: val_mse improved from inf to 0.83012, saving model to best_model_with_custom_activation.h5\n",
      "Epoch 2/2\n",
      "78533/78533 [==============================] - 341s 4ms/step - loss: 0.8356 - mse: 0.8356 - rmse: 0.9141 - val_loss: 0.8336 - val_mse: 0.8336 - val_rmse: 0.9130\n",
      "\n",
      "Epoch 00002: val_mse did not improve from 0.83012\n"
     ]
    },
    {
     "data": {
      "text/plain": [
       "<keras.callbacks.History at 0x7eff5d5a1d90>"
      ]
     },
     "execution_count": 61,
     "metadata": {},
     "output_type": "execute_result"
    }
   ],
   "source": [
    "# es = keras.callbacks.EarlyStopping(monitor=\"val_mse\", patience=4, mode=\"min\")\n",
    "mc = keras.callbacks.ModelCheckpoint(\"best_model_with_custom_activation.h5\", monitor=\"val_mse\", save_best_only=True, mode=\"min\", verbose=1)\n",
    "model=get_model(activation=custom_activation)\n",
    "model.fit(X_train, y_train, epochs=15, validation_data=(X_test, y_test), callbacks=[mc])"
   ]
  },
  {
   "cell_type": "markdown",
   "metadata": {},
   "source": [
    "### Forth: Model with multiple inputs\n",
    "\n",
    "Like BERT, the investment_id here is encoded separately."
   ]
  },
  {
   "cell_type": "code",
   "execution_count": null,
   "metadata": {
    "execution": {
     "iopub.status.busy": "2022-04-19T01:40:56.318455Z",
     "iopub.status.idle": "2022-04-19T01:40:56.319076Z",
     "shell.execute_reply": "2022-04-19T01:40:56.318864Z",
     "shell.execute_reply.started": "2022-04-19T01:40:56.318840Z"
    }
   },
   "outputs": [],
   "source": [
    "investment_id = X_train.pop('investment_id')\n",
    "train_ds = make_dataset(investment_id=investment_id, features=X_train, y=y_train)\n",
    "val_investment_id = X_test.pop('investment_id')"
   ]
  },
  {
   "cell_type": "code",
   "execution_count": null,
   "metadata": {
    "execution": {
     "iopub.status.busy": "2022-04-19T01:40:56.320265Z",
     "iopub.status.idle": "2022-04-19T01:40:56.320917Z",
     "shell.execute_reply": "2022-04-19T01:40:56.320691Z",
     "shell.execute_reply.started": "2022-04-19T01:40:56.320667Z"
    }
   },
   "outputs": [],
   "source": [
    "model = get_multi_input_model()\n",
    "tf.keras.utils.plot_model(model, show_shapes=True)\n",
    "mc = keras.callbacks.ModelCheckpoint(\"best_model_with_multi_input.h5\", monitor=\"val_mse\", save_best_only=True, mode=\"min\", verbose=1)"
   ]
  },
  {
   "cell_type": "code",
   "execution_count": null,
   "metadata": {
    "execution": {
     "iopub.status.busy": "2022-04-19T01:40:56.322106Z",
     "iopub.status.idle": "2022-04-19T01:40:56.322711Z",
     "shell.execute_reply": "2022-04-19T01:40:56.322504Z",
     "shell.execute_reply.started": "2022-04-19T01:40:56.322480Z"
    }
   },
   "outputs": [],
   "source": [
    "model.fit(train_ds, validation_data=((val_investment_id, X_test), y_test), epochs=15, callbacks=[mc])"
   ]
  },
  {
   "cell_type": "markdown",
   "metadata": {},
   "source": [
    "### Making prediction and Submitting result\n",
    "\n",
    "We found that the best model is best_model_with_custom_activation.h5. so we will use this model to make prediction as our submission."
   ]
  },
  {
   "cell_type": "code",
   "execution_count": 30,
   "metadata": {
    "execution": {
     "iopub.execute_input": "2022-04-19T04:09:13.327516Z",
     "iopub.status.busy": "2022-04-19T04:09:13.327223Z",
     "iopub.status.idle": "2022-04-19T04:09:13.372270Z",
     "shell.execute_reply": "2022-04-19T04:09:13.371505Z",
     "shell.execute_reply.started": "2022-04-19T04:09:13.327483Z"
    }
   },
   "outputs": [],
   "source": [
    "df_test = pd.read_parquet('../input/ubiquant-parquet/example_test.parquet')"
   ]
  },
  {
   "cell_type": "code",
   "execution_count": 31,
   "metadata": {
    "execution": {
     "iopub.execute_input": "2022-04-19T04:09:15.789729Z",
     "iopub.status.busy": "2022-04-19T04:09:15.788735Z",
     "iopub.status.idle": "2022-04-19T04:09:15.797182Z",
     "shell.execute_reply": "2022-04-19T04:09:15.796356Z",
     "shell.execute_reply.started": "2022-04-19T04:09:15.789687Z"
    }
   },
   "outputs": [],
   "source": [
    "sample_prediction_df = df_test[['row_id','time_id']]"
   ]
  },
  {
   "cell_type": "code",
   "execution_count": 32,
   "metadata": {
    "execution": {
     "iopub.execute_input": "2022-04-19T04:09:17.015559Z",
     "iopub.status.busy": "2022-04-19T04:09:17.014717Z",
     "iopub.status.idle": "2022-04-19T04:09:17.022570Z",
     "shell.execute_reply": "2022-04-19T04:09:17.021798Z",
     "shell.execute_reply.started": "2022-04-19T04:09:17.015517Z"
    }
   },
   "outputs": [],
   "source": [
    "df_test.drop(['row_id','time_id'],axis=1,inplace=True)"
   ]
  },
  {
   "cell_type": "code",
   "execution_count": 62,
   "metadata": {
    "execution": {
     "iopub.execute_input": "2022-04-19T05:16:12.258556Z",
     "iopub.status.busy": "2022-04-19T05:16:12.254181Z",
     "iopub.status.idle": "2022-04-19T05:16:12.543306Z",
     "shell.execute_reply": "2022-04-19T05:16:12.542309Z",
     "shell.execute_reply.started": "2022-04-19T05:16:12.258509Z"
    }
   },
   "outputs": [],
   "source": [
    "custom_objects = {\"custom_activation\": custom_activation}\n",
    "model = keras.models.load_model('best_model_with_custom_activation.h5',compile=True, custom_objects= custom_objects)\n",
    "preds = model.predict(df_test)"
   ]
  },
  {
   "cell_type": "code",
   "execution_count": 64,
   "metadata": {
    "execution": {
     "iopub.execute_input": "2022-04-19T05:17:35.165066Z",
     "iopub.status.busy": "2022-04-19T05:17:35.164706Z",
     "iopub.status.idle": "2022-04-19T05:17:35.171023Z",
     "shell.execute_reply": "2022-04-19T05:17:35.169868Z",
     "shell.execute_reply.started": "2022-04-19T05:17:35.165034Z"
    }
   },
   "outputs": [],
   "source": [
    "sample_prediction_df = pd.concat([sample_prediction_df,pd.DataFrame(preds, columns=['target'])], axis=1)"
   ]
  },
  {
   "cell_type": "code",
   "execution_count": 65,
   "metadata": {
    "execution": {
     "iopub.execute_input": "2022-04-19T05:17:37.887707Z",
     "iopub.status.busy": "2022-04-19T05:17:37.887082Z",
     "iopub.status.idle": "2022-04-19T05:17:37.898684Z",
     "shell.execute_reply": "2022-04-19T05:17:37.897506Z",
     "shell.execute_reply.started": "2022-04-19T05:17:37.887660Z"
    }
   },
   "outputs": [
    {
     "data": {
      "text/html": [
       "<div>\n",
       "<style scoped>\n",
       "    .dataframe tbody tr th:only-of-type {\n",
       "        vertical-align: middle;\n",
       "    }\n",
       "\n",
       "    .dataframe tbody tr th {\n",
       "        vertical-align: top;\n",
       "    }\n",
       "\n",
       "    .dataframe thead th {\n",
       "        text-align: right;\n",
       "    }\n",
       "</style>\n",
       "<table border=\"1\" class=\"dataframe\">\n",
       "  <thead>\n",
       "    <tr style=\"text-align: right;\">\n",
       "      <th></th>\n",
       "      <th>row_id</th>\n",
       "      <th>time_id</th>\n",
       "      <th>target</th>\n",
       "      <th>target</th>\n",
       "    </tr>\n",
       "  </thead>\n",
       "  <tbody>\n",
       "    <tr>\n",
       "      <th>0</th>\n",
       "      <td>1220_1</td>\n",
       "      <td>1220</td>\n",
       "      <td>0.068571</td>\n",
       "      <td>0.068571</td>\n",
       "    </tr>\n",
       "    <tr>\n",
       "      <th>1</th>\n",
       "      <td>1220_2</td>\n",
       "      <td>1220</td>\n",
       "      <td>0.126726</td>\n",
       "      <td>0.126726</td>\n",
       "    </tr>\n",
       "    <tr>\n",
       "      <th>2</th>\n",
       "      <td>1221_0</td>\n",
       "      <td>1221</td>\n",
       "      <td>0.089674</td>\n",
       "      <td>0.089674</td>\n",
       "    </tr>\n",
       "    <tr>\n",
       "      <th>3</th>\n",
       "      <td>1221_1</td>\n",
       "      <td>1221</td>\n",
       "      <td>0.101767</td>\n",
       "      <td>0.101767</td>\n",
       "    </tr>\n",
       "    <tr>\n",
       "      <th>4</th>\n",
       "      <td>1221_2</td>\n",
       "      <td>1221</td>\n",
       "      <td>0.099409</td>\n",
       "      <td>0.099409</td>\n",
       "    </tr>\n",
       "  </tbody>\n",
       "</table>\n",
       "</div>"
      ],
      "text/plain": [
       "   row_id  time_id    target    target\n",
       "0  1220_1     1220  0.068571  0.068571\n",
       "1  1220_2     1220  0.126726  0.126726\n",
       "2  1221_0     1221  0.089674  0.089674\n",
       "3  1221_1     1221  0.101767  0.101767\n",
       "4  1221_2     1221  0.099409  0.099409"
      ]
     },
     "execution_count": 65,
     "metadata": {},
     "output_type": "execute_result"
    }
   ],
   "source": [
    "sample_prediction_df.head()"
   ]
  },
  {
   "cell_type": "code",
   "execution_count": 66,
   "metadata": {
    "execution": {
     "iopub.execute_input": "2022-04-19T05:17:42.038610Z",
     "iopub.status.busy": "2022-04-19T05:17:42.038328Z",
     "iopub.status.idle": "2022-04-19T05:17:42.045521Z",
     "shell.execute_reply": "2022-04-19T05:17:42.044528Z",
     "shell.execute_reply.started": "2022-04-19T05:17:42.038576Z"
    }
   },
   "outputs": [],
   "source": [
    "sample_prediction_df.to_csv('submission_sample_prediction_df.csv')"
   ]
  },
  {
   "cell_type": "code",
   "execution_count": null,
   "metadata": {},
   "outputs": [],
   "source": []
  }
 ],
 "metadata": {
  "kernelspec": {
   "display_name": "Python 3",
   "language": "python",
   "name": "python3"
  },
  "language_info": {
   "codemirror_mode": {
    "name": "ipython",
    "version": 3
   },
   "file_extension": ".py",
   "mimetype": "text/x-python",
   "name": "python",
   "nbconvert_exporter": "python",
   "pygments_lexer": "ipython3",
   "version": "3.8.5"
  }
 },
 "nbformat": 4,
 "nbformat_minor": 4
}
