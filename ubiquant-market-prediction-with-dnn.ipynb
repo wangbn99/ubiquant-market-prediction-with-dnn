{
 "cells": [
  {
   "cell_type": "code",
   "execution_count": null,
   "metadata": {
    "execution": {
     "iopub.execute_input": "2022-04-18T16:04:46.145315Z",
     "iopub.status.busy": "2022-04-18T16:04:46.144389Z",
     "iopub.status.idle": "2022-04-18T16:04:50.985095Z",
     "shell.execute_reply": "2022-04-18T16:04:50.984197Z",
     "shell.execute_reply.started": "2022-04-18T16:04:46.145188Z"
    }
   },
   "outputs": [],
   "source": [
    "import pandas as pd\n",
    "import numpy as np\n",
    "import math\n",
    "import matplotlib.pyplot as plt\n",
    "import gc\n",
    "\n",
    "import tensorflow as tf\n",
    "import keras\n",
    "from keras import backend as K\n",
    "from keras import layers\n",
    "from keras.layers.core import Activation\n",
    "from keras.utils.generic_utils import get_custom_objects\n",
    "\n",
    "# from IPython.display import display\n",
    "# pd.set_option('display.max_columns', None)\n",
    "# pd.set_option('display.max_rows', None)"
   ]
  },
  {
   "cell_type": "code",
   "execution_count": null,
   "metadata": {
    "execution": {
     "iopub.execute_input": "2022-04-18T16:04:50.987386Z",
     "iopub.status.busy": "2022-04-18T16:04:50.987118Z",
     "iopub.status.idle": "2022-04-18T16:04:50.991752Z",
     "shell.execute_reply": "2022-04-18T16:04:50.990775Z",
     "shell.execute_reply.started": "2022-04-18T16:04:50.987341Z"
    }
   },
   "outputs": [],
   "source": [
    "# gpu_devices = tf.config.experimental.list_physical_devices('GPU')\n",
    "# for device in gpu_devices:\n",
    "#     tf.config.experimental.set_memory_growth(device, True)"
   ]
  },
  {
   "cell_type": "markdown",
   "metadata": {},
   "source": [
    "### Reading data\n",
    "\n",
    "Reading data from Parquet file. refer to Fast Data Loading and Low Mem with Parquet Files: https://www.kaggle.com/robikscube/fast-data-loading-and-low-mem-with-parquet-files"
   ]
  },
  {
   "cell_type": "code",
   "execution_count": null,
   "metadata": {
    "execution": {
     "iopub.execute_input": "2022-04-18T16:04:50.994566Z",
     "iopub.status.busy": "2022-04-18T16:04:50.993764Z",
     "iopub.status.idle": "2022-04-18T16:05:31.915019Z",
     "shell.execute_reply": "2022-04-18T16:05:31.914064Z",
     "shell.execute_reply.started": "2022-04-18T16:04:50.994492Z"
    }
   },
   "outputs": [],
   "source": [
    "train = pd.read_parquet('../input/ubiquant-parquet/train_low_mem.parquet')"
   ]
  },
  {
   "cell_type": "markdown",
   "metadata": {},
   "source": [
    "### Take a look at the data"
   ]
  },
  {
   "cell_type": "code",
   "execution_count": null,
   "metadata": {
    "execution": {
     "iopub.execute_input": "2022-04-18T16:05:31.928961Z",
     "iopub.status.busy": "2022-04-18T16:05:31.928636Z",
     "iopub.status.idle": "2022-04-18T16:05:31.960174Z",
     "shell.execute_reply": "2022-04-18T16:05:31.959351Z",
     "shell.execute_reply.started": "2022-04-18T16:05:31.928925Z"
    }
   },
   "outputs": [],
   "source": [
    "train.info()"
   ]
  },
  {
   "cell_type": "markdown",
   "metadata": {},
   "source": [
    "You will find that row_id is of type string, time_id and investment_id are of type uint16, and others are of type float32."
   ]
  },
  {
   "cell_type": "code",
   "execution_count": null,
   "metadata": {
    "execution": {
     "iopub.execute_input": "2022-04-18T16:05:31.961767Z",
     "iopub.status.busy": "2022-04-18T16:05:31.961481Z",
     "iopub.status.idle": "2022-04-18T16:05:31.972038Z",
     "shell.execute_reply": "2022-04-18T16:05:31.970886Z",
     "shell.execute_reply.started": "2022-04-18T16:05:31.961731Z"
    }
   },
   "outputs": [],
   "source": [
    "def get_colums_by_dtype(df, dtype):\n",
    "    s = (df.dtypes==dtype)\n",
    "    return list(s[s].index)\n",
    "\n",
    "print('object columns:', get_colums_by_dtype(train, 'object'))\n",
    "print('object columns:', get_colums_by_dtype(train, 'uint16'))"
   ]
  },
  {
   "cell_type": "markdown",
   "metadata": {},
   "source": [
    "Because the dataset is so big, to save memory you can convert float32 to float16"
   ]
  },
  {
   "cell_type": "code",
   "execution_count": null,
   "metadata": {
    "execution": {
     "iopub.execute_input": "2022-04-18T16:05:37.592615Z",
     "iopub.status.busy": "2022-04-18T16:05:37.592310Z",
     "iopub.status.idle": "2022-04-18T16:08:35.669924Z",
     "shell.execute_reply": "2022-04-18T16:08:35.668942Z",
     "shell.execute_reply.started": "2022-04-18T16:05:37.592581Z"
    }
   },
   "outputs": [],
   "source": [
    "for col in get_colums_by_dtype(train, 'float32'):\n",
    "    train[col] = train[col].astype(np.float16)"
   ]
  },
  {
   "cell_type": "markdown",
   "metadata": {},
   "source": [
    "### handling outliers"
   ]
  },
  {
   "cell_type": "code",
   "execution_count": null,
   "metadata": {
    "execution": {
     "iopub.execute_input": "2022-04-18T16:08:35.672535Z",
     "iopub.status.busy": "2022-04-18T16:08:35.672156Z",
     "iopub.status.idle": "2022-04-18T16:08:36.247362Z",
     "shell.execute_reply": "2022-04-18T16:08:36.246675Z",
     "shell.execute_reply.started": "2022-04-18T16:08:35.672480Z"
    }
   },
   "outputs": [],
   "source": [
    "investment_count = train.groupby(['investment_id'])['target'].count()\n",
    "\n",
    "investment_count.hist(bins=60, alpha = 0.5, figsize=(10, 5))\n",
    "plt.xlabel('Investment Count')\n",
    "plt.ylabel('Frequency')\n",
    "plt.title('Frequency of investment count')\n",
    "plt.grid(True)\n",
    "plt.show()"
   ]
  },
  {
   "cell_type": "code",
   "execution_count": null,
   "metadata": {
    "execution": {
     "iopub.execute_input": "2022-04-18T16:08:36.253809Z",
     "iopub.status.busy": "2022-04-18T16:08:36.251735Z",
     "iopub.status.idle": "2022-04-18T16:08:36.765322Z",
     "shell.execute_reply": "2022-04-18T16:08:36.764421Z",
     "shell.execute_reply.started": "2022-04-18T16:08:36.253764Z"
    }
   },
   "outputs": [],
   "source": [
    "investment_mean = train.groupby(['investment_id'])['target'].mean()\n",
    "investment_mean.hist(bins=60, alpha = 0.5, figsize=(10, 5))\n",
    "plt.xlabel('Investment mean by target')\n",
    "plt.ylabel('Frequency')\n",
    "plt.title(\"Frequency of investment mean by target\")\n",
    "plt.grid(True)\n",
    "plt.show()"
   ]
  },
  {
   "cell_type": "code",
   "execution_count": null,
   "metadata": {
    "execution": {
     "iopub.execute_input": "2022-04-18T16:08:36.767955Z",
     "iopub.status.busy": "2022-04-18T16:08:36.767597Z",
     "iopub.status.idle": "2022-04-18T16:08:38.539578Z",
     "shell.execute_reply": "2022-04-18T16:08:38.538826Z",
     "shell.execute_reply.started": "2022-04-18T16:08:36.767912Z"
    }
   },
   "outputs": [],
   "source": [
    "import seaborn as sns\n",
    "ax = sns.jointplot(x=investment_count, y=investment_mean, kind='reg',height=8, color = 'blue')\n",
    "ax.ax_joint.set_xlabel('Investment count')\n",
    "ax.ax_joint.set_ylabel('Target mean')\n",
    "plt.show()"
   ]
  },
  {
   "cell_type": "code",
   "execution_count": null,
   "metadata": {
    "execution": {
     "iopub.execute_input": "2022-04-18T16:08:38.541474Z",
     "iopub.status.busy": "2022-04-18T16:08:38.540718Z",
     "iopub.status.idle": "2022-04-18T16:08:46.891395Z",
     "shell.execute_reply": "2022-04-18T16:08:46.890577Z",
     "shell.execute_reply.started": "2022-04-18T16:08:38.541428Z"
    }
   },
   "outputs": [],
   "source": [
    "outlier_investment = investment_mean[abs(investment_mean)>0.4].index.tolist()\n",
    "X = train[~train['investment_id'].isin(outlier_investment)]"
   ]
  },
  {
   "cell_type": "code",
   "execution_count": null,
   "metadata": {
    "execution": {
     "iopub.execute_input": "2022-04-18T16:08:46.893165Z",
     "iopub.status.busy": "2022-04-18T16:08:46.892909Z",
     "iopub.status.idle": "2022-04-18T16:08:47.190187Z",
     "shell.execute_reply": "2022-04-18T16:08:47.189446Z",
     "shell.execute_reply.started": "2022-04-18T16:08:46.893130Z"
    }
   },
   "outputs": [],
   "source": [
    "del train\n",
    "del investment_mean\n",
    "del investment_count\n",
    "del outlier_investment\n",
    "gc.collect()"
   ]
  },
  {
   "cell_type": "code",
   "execution_count": null,
   "metadata": {
    "execution": {
     "iopub.execute_input": "2022-04-18T16:08:47.192762Z",
     "iopub.status.busy": "2022-04-18T16:08:47.192160Z",
     "iopub.status.idle": "2022-04-18T16:08:47.223797Z",
     "shell.execute_reply": "2022-04-18T16:08:47.222654Z",
     "shell.execute_reply.started": "2022-04-18T16:08:47.192701Z"
    }
   },
   "outputs": [],
   "source": [
    "X.info()"
   ]
  },
  {
   "cell_type": "markdown",
   "metadata": {},
   "source": [
    "### Splitting data"
   ]
  },
  {
   "cell_type": "markdown",
   "metadata": {},
   "source": [
    "How to split X into train set and test set, generally you can do like this: "
   ]
  },
  {
   "cell_type": "code",
   "execution_count": null,
   "metadata": {
    "execution": {
     "iopub.execute_input": "2022-04-18T16:08:47.229398Z",
     "iopub.status.busy": "2022-04-18T16:08:47.227507Z",
     "iopub.status.idle": "2022-04-18T16:08:47.234624Z",
     "shell.execute_reply": "2022-04-18T16:08:47.233926Z",
     "shell.execute_reply.started": "2022-04-18T16:08:47.229359Z"
    }
   },
   "outputs": [],
   "source": [
    "# y = X.pop(\"target\")\n",
    "# _ = X.pop('row_id')\n",
    "# from sklearn.model_selection import train_test_split\n",
    "# X_train, X_test, y_train, y_test = train_test_split(X, y, test_size=0.2)\n",
    "# # X_train, y_train, X_test, y_test = X[0:2122479], y[0:2122479], X[2122479:], y[2122479:]"
   ]
  },
  {
   "cell_type": "markdown",
   "metadata": {},
   "source": [
    "However, if you want to achieve better prediction, maybe you need to consider the distribution of time_id and investment_id. Let's take a look at their hist diagrams."
   ]
  },
  {
   "cell_type": "code",
   "execution_count": null,
   "metadata": {
    "execution": {
     "iopub.execute_input": "2022-04-18T16:08:47.241355Z",
     "iopub.status.busy": "2022-04-18T16:08:47.239064Z",
     "iopub.status.idle": "2022-04-18T16:08:48.018089Z",
     "shell.execute_reply": "2022-04-18T16:08:48.017356Z",
     "shell.execute_reply.started": "2022-04-18T16:08:47.241308Z"
    }
   },
   "outputs": [],
   "source": [
    "X[['investment_id', 'time_id']].hist(bins=50, figsize=(12,5))\n",
    "plt.show"
   ]
  },
  {
   "cell_type": "markdown",
   "metadata": {},
   "source": [
    "You can see from the above that the distribution of investment_id is relatively uniform, while the time_id is distributed incrementally. In order to prevent sampling bias, We will split data based on time_id by using stratified sampling."
   ]
  },
  {
   "cell_type": "code",
   "execution_count": null,
   "metadata": {
    "execution": {
     "iopub.execute_input": "2022-04-18T16:08:48.021233Z",
     "iopub.status.busy": "2022-04-18T16:08:48.021008Z",
     "iopub.status.idle": "2022-04-18T16:08:49.202369Z",
     "shell.execute_reply": "2022-04-18T16:08:49.201417Z",
     "shell.execute_reply.started": "2022-04-18T16:08:48.021205Z"
    }
   },
   "outputs": [],
   "source": [
    "from sklearn.model_selection import StratifiedShuffleSplit\n",
    "\n",
    "split = StratifiedShuffleSplit(n_splits=1, test_size=0.2, random_state=42)\n",
    "train_index, test_index = list(split.split(X, X['time_id']))[0]"
   ]
  },
  {
   "cell_type": "code",
   "execution_count": null,
   "metadata": {
    "execution": {
     "iopub.execute_input": "2022-04-18T16:08:49.204204Z",
     "iopub.status.busy": "2022-04-18T16:08:49.203948Z",
     "iopub.status.idle": "2022-04-18T16:09:01.612153Z",
     "shell.execute_reply": "2022-04-18T16:09:01.611357Z",
     "shell.execute_reply.started": "2022-04-18T16:08:49.204170Z"
    }
   },
   "outputs": [],
   "source": [
    "X_train = X.iloc[train_index]\n",
    "X_test = X.iloc[test_index]"
   ]
  },
  {
   "cell_type": "code",
   "execution_count": null,
   "metadata": {
    "execution": {
     "iopub.execute_input": "2022-04-18T16:09:01.613957Z",
     "iopub.status.busy": "2022-04-18T16:09:01.613644Z",
     "iopub.status.idle": "2022-04-18T16:09:01.891758Z",
     "shell.execute_reply": "2022-04-18T16:09:01.890932Z",
     "shell.execute_reply.started": "2022-04-18T16:09:01.613904Z"
    }
   },
   "outputs": [],
   "source": [
    "del X\n",
    "gc.collect()"
   ]
  },
  {
   "cell_type": "markdown",
   "metadata": {},
   "source": [
    "Verify the sampling result。"
   ]
  },
  {
   "cell_type": "code",
   "execution_count": null,
   "metadata": {
    "execution": {
     "iopub.execute_input": "2022-04-18T16:09:01.894126Z",
     "iopub.status.busy": "2022-04-18T16:09:01.892985Z",
     "iopub.status.idle": "2022-04-18T16:09:01.924207Z",
     "shell.execute_reply": "2022-04-18T16:09:01.923375Z",
     "shell.execute_reply.started": "2022-04-18T16:09:01.894066Z"
    }
   },
   "outputs": [],
   "source": [
    "display(X_train['time_id'].value_counts() / len(X_train))\n",
    "display(X_test['time_id'].value_counts() / len(X_test))"
   ]
  },
  {
   "cell_type": "code",
   "execution_count": null,
   "metadata": {
    "execution": {
     "iopub.execute_input": "2022-04-18T16:09:01.925863Z",
     "iopub.status.busy": "2022-04-18T16:09:01.925583Z",
     "iopub.status.idle": "2022-04-18T16:09:02.184614Z",
     "shell.execute_reply": "2022-04-18T16:09:02.183596Z",
     "shell.execute_reply.started": "2022-04-18T16:09:01.925824Z"
    }
   },
   "outputs": [],
   "source": [
    "y_train = X_train.pop('target')\n",
    "y_test = X_test.pop('target')\n",
    "_ = X_train.pop('row_id')\n",
    "X_train_time_id = X_train.pop('time_id')\n",
    "_ = X_test.pop('row_id')\n",
    "X_test_time_id = X_test.pop('time_id')"
   ]
  },
  {
   "cell_type": "code",
   "execution_count": null,
   "metadata": {
    "execution": {
     "iopub.execute_input": "2022-04-18T16:09:02.186501Z",
     "iopub.status.busy": "2022-04-18T16:09:02.186163Z",
     "iopub.status.idle": "2022-04-18T16:09:02.236969Z",
     "shell.execute_reply": "2022-04-18T16:09:02.236205Z",
     "shell.execute_reply.started": "2022-04-18T16:09:02.186456Z"
    }
   },
   "outputs": [],
   "source": [
    "print(X_train.info())\n",
    "print(X_test.info())"
   ]
  },
  {
   "cell_type": "markdown",
   "metadata": {},
   "source": [
    "Making dataset for multiple input models"
   ]
  },
  {
   "cell_type": "code",
   "execution_count": null,
   "metadata": {
    "execution": {
     "iopub.execute_input": "2022-04-18T21:11:49.003661Z",
     "iopub.status.busy": "2022-04-18T21:11:49.002944Z",
     "iopub.status.idle": "2022-04-18T21:11:49.010581Z",
     "shell.execute_reply": "2022-04-18T21:11:49.009424Z",
     "shell.execute_reply.started": "2022-04-18T21:11:49.003615Z"
    }
   },
   "outputs": [],
   "source": [
    "def make_dataset(investment_id, features, y=None, batch_size=1024):\n",
    "    if y is not None:\n",
    "        slices = ((investment_id, features), y)\n",
    "    else:\n",
    "        slices = ((investment_id, features))\n",
    "        \n",
    "    ds = tf.data.Dataset.from_tensor_slices(slices)\n",
    "    ds = ds.batch(batch_size).cache().prefetch(tf.data.experimental.AUTOTUNE)\n",
    "    \n",
    "    return ds"
   ]
  },
  {
   "cell_type": "markdown",
   "metadata": {},
   "source": [
    "### Building models\n",
    "#### Define models"
   ]
  },
  {
   "cell_type": "code",
   "execution_count": null,
   "metadata": {
    "execution": {
     "iopub.execute_input": "2022-04-18T17:32:46.813461Z",
     "iopub.status.busy": "2022-04-18T17:32:46.813142Z",
     "iopub.status.idle": "2022-04-18T17:32:46.824022Z",
     "shell.execute_reply": "2022-04-18T17:32:46.823054Z",
     "shell.execute_reply.started": "2022-04-18T17:32:46.813410Z"
    }
   },
   "outputs": [],
   "source": [
    "def get_model(hidden_layer_nodes=[256, 128, 32], activation='swish', batchNormalization=True, dropOut=None):\n",
    "    model = keras.Sequential()\n",
    "    if not batchNormalization:\n",
    "        batchNormalization = False\n",
    "    if not isinstance(batchNormalization, list):\n",
    "        batchNormalization = [batchNormalization] * len(hidden_layer_nodes)\n",
    "    if not dropOut:\n",
    "        dropOut = 0.0\n",
    "    if not isinstance(dropOut, list):\n",
    "        dropOut = [dropOut] * len(hidden_layer_nodes)\n",
    "    for node_num,bn,dropout_rate in zip(hidden_layer_nodes, batchNormalization, dropOut):\n",
    "        model.add(keras.layers.Dense(node_num))\n",
    "        if bn:\n",
    "            model.add(keras.layers.BatchNormalization())\n",
    "        model.add(keras.layers.Activation(activation)) \n",
    "        if dropout_rate>0:\n",
    "            model.add(keras.layers.Dropout(dropout_rate)) \n",
    "            \n",
    "\n",
    "    # Add activation function to classifier\n",
    "    model.add(keras.layers.Dense(1, activation='linear'))\n",
    "\n",
    "    rmse = tf.keras.metrics.RootMeanSquaredError(name=\"rmse\")\n",
    "\n",
    "    model.compile(loss=\"mean_squared_error\", optimizer=\"adam\", metrics=[\"mse\", rmse])\n",
    "    #model.compile(optimizer=tf.optimizers.Adam(0.001), loss='mse', metrics=['mse', rmse])\n",
    "    return model"
   ]
  },
  {
   "cell_type": "code",
   "execution_count": null,
   "metadata": {
    "execution": {
     "iopub.execute_input": "2022-04-18T21:13:49.119330Z",
     "iopub.status.busy": "2022-04-18T21:13:49.119032Z",
     "iopub.status.idle": "2022-04-18T21:13:49.128609Z",
     "shell.execute_reply": "2022-04-18T21:13:49.127730Z",
     "shell.execute_reply.started": "2022-04-18T21:13:49.119296Z"
    }
   },
   "outputs": [],
   "source": [
    "def get_multi_input_model():\n",
    "    investment_id_input = tf.keras.Input(shape=(1,), dtype=tf.uint16, name='investment_id')\n",
    "    investment_id_x = layers.Dense(64, activation='relu')(investment_id_input)\n",
    "\n",
    "    features_input = tf.keras.Input(shape=(300,), dtype=tf.float16, name='features')\n",
    "    features_x = layers.Dense(512, activation='swish')(features_input)\n",
    "    features_x = layers.Dense(256, activation='swish')(features_x)\n",
    "\n",
    "\n",
    "    concatenated = layers.concatenate([investment_id_x, features_x], axis=-1)\n",
    "    mixed_x = layers.Dense(32, activation='relu')(concatenated)\n",
    "    output = layers.Dense(1)(mixed_x)\n",
    "\n",
    "    model = keras.models.Model([investment_id_input, features_input], output, name='model_with_multi_input')\n",
    "    rmse = tf.keras.metrics.RootMeanSquaredError(name=\"rmse\")\n",
    "    model.compile(optimizer='adam', loss='mse', metrics=['mse', rmse])\n",
    "    \n",
    "    return model"
   ]
  },
  {
   "cell_type": "markdown",
   "metadata": {},
   "source": [
    "### First: A basic model"
   ]
  },
  {
   "cell_type": "code",
   "execution_count": null,
   "metadata": {
    "execution": {
     "iopub.execute_input": "2022-04-18T19:40:24.104466Z",
     "iopub.status.busy": "2022-04-18T19:40:24.104095Z",
     "iopub.status.idle": "2022-04-18T21:03:57.898241Z",
     "shell.execute_reply": "2022-04-18T21:03:57.897430Z",
     "shell.execute_reply.started": "2022-04-18T19:40:24.104427Z"
    }
   },
   "outputs": [],
   "source": [
    "mc = keras.callbacks.ModelCheckpoint(\"best_model_basic.h5\", monitor=\"val_mse\", save_best_only=True, mode=\"min\", verbose=1)\n",
    "model=get_model(activation='swish')\n",
    "model.fit(X_train, y_train, epochs=15, validation_data=(X_test, y_test), callbacks=[mc])"
   ]
  },
  {
   "cell_type": "markdown",
   "metadata": {},
   "source": [
    "### Second: A basic model with early stop callback"
   ]
  },
  {
   "cell_type": "code",
   "execution_count": null,
   "metadata": {
    "execution": {
     "iopub.execute_input": "2022-04-18T16:09:04.648107Z",
     "iopub.status.busy": "2022-04-18T16:09:04.647836Z",
     "iopub.status.idle": "2022-04-18T17:06:52.835953Z",
     "shell.execute_reply": "2022-04-18T17:06:52.834971Z",
     "shell.execute_reply.started": "2022-04-18T16:09:04.648070Z"
    }
   },
   "outputs": [],
   "source": [
    "es = keras.callbacks.EarlyStopping(monitor=\"val_mse\", patience=4, mode=\"min\")\n",
    "mc = keras.callbacks.ModelCheckpoint(\"best_model_basic_with_early_stop.h5\", monitor=\"val_mse\", save_best_only=True, mode=\"min\", verbose=1)\n",
    "model=get_model(activation='swish')\n",
    "model.fit(X_train, y_train, epochs=50, validation_data=(X_test, y_test), callbacks=[es, mc])"
   ]
  },
  {
   "cell_type": "markdown",
   "metadata": {},
   "source": [
    "### Third: Model with custom defined activation"
   ]
  },
  {
   "cell_type": "code",
   "execution_count": null,
   "metadata": {
    "execution": {
     "iopub.execute_input": "2022-04-18T16:09:02.239643Z",
     "iopub.status.busy": "2022-04-18T16:09:02.239176Z",
     "iopub.status.idle": "2022-04-18T16:09:02.257263Z",
     "shell.execute_reply": "2022-04-18T16:09:02.256566Z",
     "shell.execute_reply.started": "2022-04-18T16:09:02.239606Z"
    }
   },
   "outputs": [],
   "source": [
    "def custom_activation(x):\n",
    "  \n",
    "    #return (1/(1 + K.exp(-x)))\n",
    "    return K.sin(math.pi * x /2)\n",
    "     \n",
    "get_custom_objects().update({'custom_activation': Activation(custom_activation)})"
   ]
  },
  {
   "cell_type": "code",
   "execution_count": null,
   "metadata": {
    "execution": {
     "iopub.execute_input": "2022-04-18T17:33:41.888646Z",
     "iopub.status.busy": "2022-04-18T17:33:41.888225Z",
     "iopub.status.idle": "2022-04-18T18:31:03.204298Z",
     "shell.execute_reply": "2022-04-18T18:31:03.203295Z",
     "shell.execute_reply.started": "2022-04-18T17:33:41.888606Z"
    }
   },
   "outputs": [],
   "source": [
    "mc = keras.callbacks.ModelCheckpoint(\"best_model_with_custom_activation.h5\", monitor=\"val_mse\", save_best_only=True, mode=\"min\", verbose=1)\n",
    "model=get_model(activation='custom_activation')\n",
    "model.fit(X_train, y_train, epochs=15, validation_data=(X_test, y_test), callbacks=[mc])"
   ]
  },
  {
   "cell_type": "markdown",
   "metadata": {},
   "source": [
    "### Forth: Model with multiple inputs\n",
    "\n",
    "Like BERT, the investment_id here is encoded separately."
   ]
  },
  {
   "cell_type": "code",
   "execution_count": null,
   "metadata": {
    "execution": {
     "iopub.execute_input": "2022-04-18T21:14:31.141621Z",
     "iopub.status.busy": "2022-04-18T21:14:31.141345Z",
     "iopub.status.idle": "2022-04-18T21:14:35.430680Z",
     "shell.execute_reply": "2022-04-18T21:14:35.429876Z",
     "shell.execute_reply.started": "2022-04-18T21:14:31.141589Z"
    }
   },
   "outputs": [],
   "source": [
    "investment_id = X_train.pop('investment_id')\n",
    "train_ds = make_dataset(investment_id=investment_id, features=X_train, y=y_train)\n",
    "val_investment_id = X_test.pop('investment_id')"
   ]
  },
  {
   "cell_type": "code",
   "execution_count": null,
   "metadata": {
    "execution": {
     "iopub.execute_input": "2022-04-18T21:23:49.213257Z",
     "iopub.status.busy": "2022-04-18T21:23:49.212956Z",
     "iopub.status.idle": "2022-04-18T21:23:49.775128Z",
     "shell.execute_reply": "2022-04-18T21:23:49.773925Z",
     "shell.execute_reply.started": "2022-04-18T21:23:49.213222Z"
    }
   },
   "outputs": [],
   "source": [
    "model = get_multi_input_model()\n",
    "tf.keras.utils.plot_model(model, show_shapes=True)\n",
    "mc = keras.callbacks.ModelCheckpoint(\"best_model_with_multi_input.h5\", monitor=\"val_mse\", save_best_only=True, mode=\"min\", verbose=1)"
   ]
  },
  {
   "cell_type": "code",
   "execution_count": null,
   "metadata": {
    "execution": {
     "iopub.execute_input": "2022-04-18T21:24:15.283162Z",
     "iopub.status.busy": "2022-04-18T21:24:15.282394Z",
     "iopub.status.idle": "2022-04-18T21:38:25.051969Z",
     "shell.execute_reply": "2022-04-18T21:38:25.051033Z",
     "shell.execute_reply.started": "2022-04-18T21:24:15.283121Z"
    }
   },
   "outputs": [],
   "source": [
    "model.fit(train_ds, validation_data=((val_investment_id, X_test), y_test), epochs=15, callbacks=[mc])"
   ]
  },
  {
   "cell_type": "markdown",
   "metadata": {},
   "source": [
    "### Making prediction and Submitting result\n",
    "\n",
    "We found that the best model is best_model_with_custom_activation.h5. so we will load the model and make prediction as our submission."
   ]
  },
  {
   "cell_type": "code",
   "execution_count": null,
   "metadata": {
    "execution": {
     "iopub.execute_input": "2022-04-18T19:24:49.555589Z",
     "iopub.status.busy": "2022-04-18T19:24:49.555261Z",
     "iopub.status.idle": "2022-04-18T19:24:49.630669Z",
     "shell.execute_reply": "2022-04-18T19:24:49.629966Z",
     "shell.execute_reply.started": "2022-04-18T19:24:49.555552Z"
    }
   },
   "outputs": [],
   "source": [
    "df_test = pd.read_parquet('../input/ubiquant-parquet/example_test.parquet')"
   ]
  },
  {
   "cell_type": "code",
   "execution_count": null,
   "metadata": {
    "execution": {
     "iopub.execute_input": "2022-04-18T19:25:04.317151Z",
     "iopub.status.busy": "2022-04-18T19:25:04.316622Z",
     "iopub.status.idle": "2022-04-18T19:25:04.322897Z",
     "shell.execute_reply": "2022-04-18T19:25:04.322060Z",
     "shell.execute_reply.started": "2022-04-18T19:25:04.317109Z"
    }
   },
   "outputs": [],
   "source": [
    "sample_prediction_df = df_test[['row_id','time_id']]"
   ]
  },
  {
   "cell_type": "code",
   "execution_count": null,
   "metadata": {
    "execution": {
     "iopub.execute_input": "2022-04-18T19:25:06.078344Z",
     "iopub.status.busy": "2022-04-18T19:25:06.078066Z",
     "iopub.status.idle": "2022-04-18T19:25:06.084154Z",
     "shell.execute_reply": "2022-04-18T19:25:06.083317Z",
     "shell.execute_reply.started": "2022-04-18T19:25:06.078305Z"
    }
   },
   "outputs": [],
   "source": [
    "df_test.drop(['row_id','time_id'],axis=1,inplace=True)"
   ]
  },
  {
   "cell_type": "code",
   "execution_count": null,
   "metadata": {
    "execution": {
     "iopub.execute_input": "2022-04-18T19:25:09.199007Z",
     "iopub.status.busy": "2022-04-18T19:25:09.198389Z",
     "iopub.status.idle": "2022-04-18T19:25:09.512345Z",
     "shell.execute_reply": "2022-04-18T19:25:09.511567Z",
     "shell.execute_reply.started": "2022-04-18T19:25:09.198963Z"
    }
   },
   "outputs": [],
   "source": [
    "model = keras.models.load_model('best_model_with_custom_activation.h5')\n",
    "preds = model.predict(df_test)"
   ]
  },
  {
   "cell_type": "code",
   "execution_count": null,
   "metadata": {
    "execution": {
     "iopub.execute_input": "2022-04-18T19:29:09.953506Z",
     "iopub.status.busy": "2022-04-18T19:29:09.952722Z",
     "iopub.status.idle": "2022-04-18T19:29:09.966552Z",
     "shell.execute_reply": "2022-04-18T19:29:09.965684Z",
     "shell.execute_reply.started": "2022-04-18T19:29:09.953456Z"
    }
   },
   "outputs": [],
   "source": [
    "sample_prediction_df = pd.concat([sample_prediction_df,pd.DataFrame(preds, columns=['target'])], axis=1)"
   ]
  },
  {
   "cell_type": "code",
   "execution_count": null,
   "metadata": {
    "execution": {
     "iopub.status.busy": "2022-04-18T16:05:32.294369Z",
     "iopub.status.idle": "2022-04-18T16:05:32.295041Z",
     "shell.execute_reply": "2022-04-18T16:05:32.294793Z",
     "shell.execute_reply.started": "2022-04-18T16:05:32.294764Z"
    }
   },
   "outputs": [],
   "source": [
    "sample_prediction_df.head()"
   ]
  },
  {
   "cell_type": "code",
   "execution_count": null,
   "metadata": {
    "execution": {
     "iopub.status.busy": "2022-04-18T16:05:32.296184Z",
     "iopub.status.idle": "2022-04-18T16:05:32.296836Z",
     "shell.execute_reply": "2022-04-18T16:05:32.296598Z",
     "shell.execute_reply.started": "2022-04-18T16:05:32.296570Z"
    }
   },
   "outputs": [],
   "source": [
    "sample_prediction_df.to_csv('submission_sample_prediction_df.csv')"
   ]
  }
 ],
 "metadata": {
  "kernelspec": {
   "display_name": "Python 3",
   "language": "python",
   "name": "python3"
  },
  "language_info": {
   "codemirror_mode": {
    "name": "ipython",
    "version": 3
   },
   "file_extension": ".py",
   "mimetype": "text/x-python",
   "name": "python",
   "nbconvert_exporter": "python",
   "pygments_lexer": "ipython3",
   "version": "3.8.5"
  }
 },
 "nbformat": 4,
 "nbformat_minor": 4
}
